{
 "cells": [
  {
   "cell_type": "code",
   "execution_count": null,
   "metadata": {},
   "outputs": [],
   "source": [
    "import pandas as pd"
   ]
  },
  {
   "cell_type": "code",
   "execution_count": null,
   "metadata": {},
   "outputs": [],
   "source": [
    "flight_df = pd.read_csv(r\"C:\\Users\\macie\\PROJEKT KOŃCOWY\\flight_df_01.csv\", delimiter=';')"
   ]
  },
  {
   "cell_type": "code",
   "execution_count": null,
   "metadata": {},
   "outputs": [],
   "source": [
    "flight_df"
   ]
  },
  {
   "cell_type": "code",
   "execution_count": null,
   "metadata": {},
   "outputs": [],
   "source": [
    "airport_list_df = pd.read_csv(r\"C:\\Users\\macie\\PROJEKT KOŃCOWY\\airport_list.csv\", delimiter= ';')\n",
    "airport_list_df"
   ]
  },
  {
   "cell_type": "code",
   "execution_count": null,
   "metadata": {},
   "outputs": [],
   "source": [
    "airport_list_df['origin_airport_id'].unique()"
   ]
  },
  {
   "cell_type": "code",
   "execution_count": null,
   "metadata": {},
   "outputs": [],
   "source": [
    "airport_list_df['origin_airport_id'].duplicated().unique()"
   ]
  },
  {
   "cell_type": "code",
   "execution_count": null,
   "metadata": {},
   "outputs": [],
   "source": [
    "flight_df.columns"
   ]
  },
  {
   "cell_type": "code",
   "execution_count": null,
   "metadata": {},
   "outputs": [],
   "source": [
    "flight_df = flight_df.merge(airport_list_df[['origin_airport_id', 'origin_city_name']],\n",
    "                            how = 'left',\n",
    "                            left_on = 'origin_airport_id',\n",
    "                            right_on = 'origin_airport_id',\n",
    "                            suffixes=('_1', '_2'))"
   ]
  },
  {
   "cell_type": "code",
   "execution_count": null,
   "metadata": {},
   "outputs": [],
   "source": [
    "flight_df = flight_df.merge(airport_list_df[['origin_airport_id', 'origin_city_name']],\n",
    "                            how = 'left',\n",
    "                            left_on = 'dest_airport_id',\n",
    "                            right_on = 'origin_airport_id',\n",
    "                            suffixes=('_3', '_4'))"
   ]
  },
  {
   "cell_type": "code",
   "execution_count": null,
   "metadata": {},
   "outputs": [],
   "source": [
    "flight_df.rename(columns = {'origin_airport_id_4': 'dest_airport_id_4', 'origin_city_name_4': 'destination_city_name', 'origin_city_name_3': 'origin_city_name'}, inplace = True);"
   ]
  },
  {
   "cell_type": "markdown",
   "metadata": {},
   "source": [
    "## Analiza według lotnisk oraz tras \n",
    "1. Wyznaczymy lotniska, z których odlatywało najwięcej samolotów.\n",
    "2. Wyznaczymy lotniska, na których najwięcej lotów się kończyło\n",
    "3. Wyznacz najczęściej uczęszczaną trasę\n",
    "4. Przy założeniu, że reprezentatywna liczba lotów na trasie wynosi ponad 500, wyznacz dodatkowo top 10:  \n",
    "     - tras z **najmniejszym odsetkiem opóźnień**, wynik zapisz do ramki \n",
    "     - tras z **największym odsetkiem opóźnień**, wynik zapisz do ramki "
   ]
  },
  {
   "cell_type": "code",
   "execution_count": null,
   "metadata": {},
   "outputs": [],
   "source": [
    "top_airports_origin_df = flight_df.groupby(by = 'origin_city_name')['origin_city_name'].count().sort_values(ascending = False)\n",
    "top_airports_origin_df = pd.DataFrame(top_airports_origin_df)\n",
    "top_airports_origin_df"
   ]
  },
  {
   "cell_type": "code",
   "execution_count": null,
   "metadata": {},
   "outputs": [],
   "source": [
    "top_airports_origin_df.rename(columns = {'origin_city_name': 'odloty'}, inplace = True)\n",
    "top_airports_origin_df['origin_city'] = top_airports_origin_df.index\n",
    "top_airports_origin_df.head(40)"
   ]
  },
  {
   "cell_type": "code",
   "execution_count": null,
   "metadata": {},
   "outputs": [],
   "source": [
    "top_airports_destination_df = flight_df.groupby(by = 'destination_city_name')['destination_city_name'].count().sort_values(ascending = False)\n",
    "top_airports_destination_df = pd.DataFrame(top_airports_destination_df)\n",
    "top_airports_destination_df.rename(columns = {'destination_city_name' : 'przyloty'}, inplace = True)\n",
    "top_airports_destination_df['destination_city'] = top_airports_destination_df.index\n",
    "top_airports_destination_df"
   ]
  },
  {
   "cell_type": "code",
   "execution_count": null,
   "metadata": {},
   "outputs": [],
   "source": [
    "top_route_df = top_airports_origin_df.merge(top_airports_destination_df,\n",
    "                                           how = 'inner',\n",
    "                                           left_on = 'origin_city_name',\n",
    "                                           right_on = 'destination_city_name')"
   ]
  },
  {
   "cell_type": "code",
   "execution_count": null,
   "metadata": {},
   "outputs": [],
   "source": [
    "top_route_df.drop('destination_city', axis = 1, inplace = True)"
   ]
  },
  {
   "cell_type": "code",
   "execution_count": null,
   "metadata": {},
   "outputs": [],
   "source": [
    "top_route_df['sum'] = 0\n",
    "o = 0\n",
    "for i in top_route_df['origin_city']:\n",
    "    top_route_df.loc[o, 'sum'] = top_route_df.loc[o, 'przyloty'] + top_route_df.loc[o, 'odloty']\n",
    "    o = o + 1"
   ]
  },
  {
   "cell_type": "code",
   "execution_count": null,
   "metadata": {},
   "outputs": [],
   "source": [
    "top_route_df.sort_values(by = 'sum', ascending = False)"
   ]
  },
  {
   "cell_type": "code",
   "execution_count": null,
   "metadata": {},
   "outputs": [],
   "source": [
    "flight_df = flight_df.loc[:, ~flight_df.columns.duplicated()]\n"
   ]
  },
  {
   "cell_type": "code",
   "execution_count": null,
   "metadata": {},
   "outputs": [],
   "source": [
    "delayed_flights = flight_df.loc[flight_df['is_delayed'] == 1].groupby(by=['origin_city_name', 'destination_city_name'])['is_delayed'].count()\n",
    "total_flights = flight_df.groupby(by=['origin_city_name', 'destination_city_name'])['is_delayed'].count()\n",
    "least_route_delays_df = delayed_flights / total_flights\n"
   ]
  },
  {
   "cell_type": "code",
   "execution_count": null,
   "metadata": {},
   "outputs": [],
   "source": [
    "least_route_delays_df = pd.DataFrame(least_route_delays_df)\n",
    "least_route_delays_df.sort_values(by = 'is_delayed', ascending = True).head(10)"
   ]
  },
  {
   "cell_type": "code",
   "execution_count": null,
   "metadata": {},
   "outputs": [],
   "source": [
    "delayed_flights = flight_df.loc[flight_df['is_delayed'] == 1].groupby(by=['origin_city_name', 'destination_city_name'])['is_delayed'].count()\n",
    "total_flights = flight_df.groupby(by=['origin_city_name', 'destination_city_name'])['is_delayed'].count()\n",
    "top_route_delays_df = delayed_flights / total_flights\n",
    "\n",
    "top_route_delays_df = pd.DataFrame(top_route_delays_df)\n",
    "top_route_delays_df.sort_values(by = 'is_delayed', ascending = False).head(10)"
   ]
  },
  {
   "cell_type": "markdown",
   "metadata": {},
   "source": [
    "## Wzbogacenie o dane pogodowe "
   ]
  },
  {
   "cell_type": "code",
   "execution_count": null,
   "metadata": {},
   "outputs": [],
   "source": [
    "airport_weather_df = pd.read_csv(r\"C:\\Users\\macie\\PROJEKT KOŃCOWY\\airport_weather.csv\", delimiter=';')\n",
    "airport_weather_df.columns = airport_weather_df.columns.str.lower()"
   ]
  },
  {
   "cell_type": "code",
   "execution_count": null,
   "metadata": {},
   "outputs": [],
   "source": [
    "airport_weather_df\n"
   ]
  },
  {
   "cell_type": "code",
   "execution_count": null,
   "metadata": {},
   "outputs": [],
   "source": [
    "my_columns = ['station', 'name', 'date', 'prcp', 'snow', 'snwd', 'tmax', 'awnd']\n",
    "\n",
    "airport_weather_df = airport_weather_df[my_columns]"
   ]
  },
  {
   "cell_type": "code",
   "execution_count": null,
   "metadata": {},
   "outputs": [],
   "source": [
    "airport_list_df"
   ]
  },
  {
   "cell_type": "code",
   "execution_count": null,
   "metadata": {},
   "outputs": [],
   "source": [
    "airport_weather_df = airport_weather_df.merge(airport_list_df[['origin_airport_id', 'name']],\n",
    "                            how = 'inner',\n",
    "                            left_on = 'name',\n",
    "                            right_on = 'name')"
   ]
  },
  {
   "cell_type": "code",
   "execution_count": null,
   "metadata": {},
   "outputs": [],
   "source": [
    "airport_weather_df"
   ]
  },
  {
   "cell_type": "code",
   "execution_count": null,
   "metadata": {},
   "outputs": [],
   "source": [
    "airport_weather_df['date']= pd.to_datetime(airport_weather_df['date'])"
   ]
  },
  {
   "cell_type": "code",
   "execution_count": null,
   "metadata": {},
   "outputs": [],
   "source": [
    "flight_df['id'] = flight_df.index\n",
    "flight_df['date'] = '0'"
   ]
  },
  {
   "cell_type": "code",
   "execution_count": null,
   "metadata": {},
   "outputs": [],
   "source": [
    "p = 0\n",
    "for q in flight_df['id']:\n",
    "    flight_df['date'][p] = f\"{int(flight_df['year'][p])}-{flight_df['month'][p]}-{flight_df['day_of_month'][p]}\"\n",
    "    p = p + 1"
   ]
  },
  {
   "cell_type": "code",
   "execution_count": null,
   "metadata": {},
   "outputs": [],
   "source": [
    "flight_df"
   ]
  },
  {
   "cell_type": "code",
   "execution_count": null,
   "metadata": {},
   "outputs": [],
   "source": [
    "flight_df['date']= pd.to_datetime(flight_df['date'])\n",
    "flight_df.rename(columns = {'origin_airport_id_3': 'origin_airport_id'}, inplace = True);\n"
   ]
  },
  {
   "cell_type": "code",
   "execution_count": null,
   "metadata": {},
   "outputs": [],
   "source": [
    "flight_df = flight_df.merge(airport_weather_df,\n",
    "                           how = 'left',\n",
    "                           left_on = ['origin_airport_id', 'date'],\n",
    "                           right_on =['origin_airport_id', 'date'])"
   ]
  },
  {
   "cell_type": "code",
   "execution_count": null,
   "metadata": {},
   "outputs": [],
   "source": [
    "airport_weather_df"
   ]
  },
  {
   "cell_type": "markdown",
   "metadata": {},
   "source": [
    "Hipoteza: Temperatura maksymalna wpływa na odsetek opóźnień lotów(kolumna tmax)"
   ]
  },
  {
   "cell_type": "markdown",
   "metadata": {},
   "source": [
    " ## Analiza dla kolumny `tmax`"
   ]
  },
  {
   "cell_type": "code",
   "execution_count": null,
   "metadata": {},
   "outputs": [],
   "source": [
    "import plotly.express as px"
   ]
  },
  {
   "cell_type": "code",
   "execution_count": null,
   "metadata": {},
   "outputs": [],
   "source": [
    "delayed_flights_tmax = flight_df.loc[flight_df['is_delayed'] == 1].groupby(by=['tmax'])['is_delayed'].count()\n",
    "total_flights_tmax = flight_df.groupby(by=['tmax'])['is_delayed'].count()\n",
    "\n",
    "tmax_research_df = delayed_flights_tmax / total_flights_tmax"
   ]
  },
  {
   "cell_type": "code",
   "execution_count": null,
   "metadata": {},
   "outputs": [],
   "source": [
    "tmax_research_df = pd.DataFrame(tmax_research_df)\n",
    "tmax_research_df"
   ]
  },
  {
   "cell_type": "code",
   "execution_count": null,
   "metadata": {},
   "outputs": [],
   "source": [
    "fig = px.line(tmax_research_df)\n",
    "fig.show()"
   ]
  },
  {
   "cell_type": "markdown",
   "metadata": {},
   "source": [
    "### Wnioski:\n",
    "Patrząc na dane musimy przede wszystkim ustalić jednostki pomiarowe. Największa wartość w kolumnie tmax to 115, więc to nasuwa wnioski, że używamy pomiaru temperatury w Farenheitach. Największy odsetek opóźnień występuje przy tmax = -10 czyli niska temperatura wpływa na wzrost opóźnień. Jednakże, najmniejsza wartość opóźnienia występuje przy względnie niskiej temperaturze(około -13 stopni celsjusza), więc zważyszwy na to być może występuje dodatkowy czynnik, który kształtuje ten odsetek opóźnień, a którego nie uwzględnialiśmy w naszym badaniu. Stabilizacja następuje w okolicach 40-50 stopniach."
   ]
  },
  {
   "cell_type": "markdown",
   "metadata": {},
   "source": []
  },
  {
   "cell_type": "code",
   "execution_count": null,
   "metadata": {},
   "outputs": [],
   "source": [
    "flight_df.columns"
   ]
  },
  {
   "cell_type": "code",
   "execution_count": null,
   "metadata": {},
   "outputs": [],
   "source": [
    "flight_df_ANOVA = flight_df\n",
    "flight_df_ANOVA.to_csv(\"flight_df_ANOVA.csv\", sep = ';', encoding = 'utf-8', index = False)"
   ]
  }
 ],
 "metadata": {
  "kernelspec": {
   "display_name": "base",
   "language": "python",
   "name": "python3"
  },
  "language_info": {
   "codemirror_mode": {
    "name": "ipython",
    "version": 3
   },
   "file_extension": ".py",
   "mimetype": "text/x-python",
   "name": "python",
   "nbconvert_exporter": "python",
   "pygments_lexer": "ipython3",
   "version": "2022.10.-1"
  }
 },
 "nbformat": 4,
 "nbformat_minor": 2
}
