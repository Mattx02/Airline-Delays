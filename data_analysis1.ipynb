{
 "cells": [
  {
   "cell_type": "code",
   "execution_count": null,
   "metadata": {},
   "outputs": [],
   "source": [
    "import pandas as pd"
   ]
  },
  {
   "cell_type": "code",
   "execution_count": null,
   "metadata": {},
   "outputs": [],
   "source": [
    "flight_df_raw = pd.read_csv(\n",
    "    r\"C:\\Users\\macie\\OneDrive\\Pulpit\\Studia PJATK\\flight.csv\",\n",
    "    low_memory=False)\n"
   ]
  },
  {
   "cell_type": "code",
   "execution_count": null,
   "metadata": {},
   "outputs": [],
   "source": [
    "flight_df_raw"
   ]
  },
  {
   "cell_type": "code",
   "execution_count": null,
   "metadata": {},
   "outputs": [],
   "source": [
    "flight_df_raw.info()\n",
    "flight_df_raw.columns"
   ]
  },
  {
   "cell_type": "code",
   "execution_count": null,
   "metadata": {},
   "outputs": [],
   "source": [
    "flight_df_raw = flight_df_raw.drop('Unnamed: 32', axis=1)\n",
    "flight_df_raw"
   ]
  },
  {
   "cell_type": "code",
   "execution_count": null,
   "metadata": {},
   "outputs": [],
   "source": [
    "flight_df_raw['CANCELLATION_CODE'] == 'NaN'\n"
   ]
  },
  {
   "cell_type": "code",
   "execution_count": null,
   "metadata": {},
   "outputs": [],
   "source": [
    "flight_df_raw = flight_df_raw.drop('CANCELLATION_CODE', axis=1)"
   ]
  },
  {
   "cell_type": "code",
   "execution_count": null,
   "metadata": {},
   "outputs": [],
   "source": [
    "flight_df_raw"
   ]
  },
  {
   "cell_type": "markdown",
   "metadata": {},
   "source": [
    "testy hipotetyczne w jakie dni tygodnia spozniaja sie te loty \n",
    "korelacje między pogodą "
   ]
  },
  {
   "cell_type": "markdown",
   "metadata": {},
   "source": [
    "Usuwamy loty anulowanae "
   ]
  },
  {
   "cell_type": "code",
   "execution_count": null,
   "metadata": {},
   "outputs": [],
   "source": [
    "cancelled_flights = flight_df_raw['CANCELLED'] == 1\n",
    "\n",
    "first_cl_flight_df_raw = flight_df_raw[~(cancelled_flights)]\n",
    "first_cl_flight_df_raw"
   ]
  },
  {
   "cell_type": "markdown",
   "metadata": {},
   "source": [
    "Zmieniamy nazwe kolumny DEP_DELAY_NEW na DEP_DELAY"
   ]
  },
  {
   "cell_type": "code",
   "execution_count": null,
   "metadata": {},
   "outputs": [],
   "source": [
    "first_cl_flight_df_raw.rename(columns = {'DEP_DELAY_NEW': 'DEP_DELAY'}, inplace = True)\n",
    "flight_df = first_cl_flight_df_raw"
   ]
  },
  {
   "cell_type": "code",
   "execution_count": null,
   "metadata": {},
   "outputs": [],
   "source": [
    "flight_df['DEP_DELAY']"
   ]
  },
  {
   "cell_type": "markdown",
   "metadata": {},
   "source": [
    "## Analiza kolumny dep_delay part 1\n",
    "Chcemy wyznaczyć statystyki opisowe dla DEP_DELAY i zapisać do nowej zmiennej. \n",
    "Oto wiersze, które chcemy uzyskać:\n",
    "-  średnia,\n",
    " - mediana,\n",
    " - odchylenie standardowe,\n",
    " - min, max\n",
    " - percentyle `[0.1, 0.25, 0.5, 0.75, 0.9, 0.95, 0.99]`\n"
   ]
  },
  {
   "cell_type": "code",
   "execution_count": null,
   "metadata": {},
   "outputs": [],
   "source": [
    "dep_delay_statistics_df = round(flight_df['DEP_DELAY'].describe(percentiles = [0.1, 0.25, 0.5, 0.75, 0.9, 0.95, 0.99]), 2)"
   ]
  },
  {
   "cell_type": "code",
   "execution_count": null,
   "metadata": {},
   "outputs": [],
   "source": [
    "dep_delay_statistics_df"
   ]
  },
  {
   "cell_type": "markdown",
   "metadata": {},
   "source": [
    "## Analiza kolumny DEP_DELAY part 2\n",
    "Chcemy podać dokładnej analizie tę kolumne:\n",
    "1. Wyznaczyć wykres dla całej kolumny (tzn. tak jak jest)\n",
    "2. Wyznaczyć wykres z pominięciem tych wierszy, dla których DEP_DELAY = 0\n",
    "3. Ograniczyć wykres do percentyla 95% oraz pomijając DEP_DELAY = 0"
   ]
  },
  {
   "cell_type": "code",
   "execution_count": null,
   "metadata": {},
   "outputs": [],
   "source": [
    "flight_df['DEP_DELAY']"
   ]
  },
  {
   "cell_type": "code",
   "execution_count": null,
   "metadata": {},
   "outputs": [],
   "source": [
    "import plotly.express as px\n",
    "import matplotlib.pyplot as plt"
   ]
  },
  {
   "cell_type": "code",
   "execution_count": null,
   "metadata": {},
   "outputs": [],
   "source": [
    "fig1 = px.histogram(flight_df, x='DEP_DELAY', nbins=int(flight_df['DEP_DELAY'].max() / 10))\n",
    "\n",
    "fig1.show()"
   ]
  },
  {
   "cell_type": "markdown",
   "metadata": {},
   "source": [
    "Wykres dla DEP_DELAY > 0"
   ]
  },
  {
   "cell_type": "code",
   "execution_count": null,
   "metadata": {},
   "outputs": [],
   "source": [
    "fig2 = px.histogram(flight_df.loc[flight_df['DEP_DELAY'] > 0], x='DEP_DELAY', nbins=int(flight_df['DEP_DELAY'].max() / 10))\n",
    "fig2.show()"
   ]
  },
  {
   "cell_type": "markdown",
   "metadata": {},
   "source": [
    " wykres dla dep_delay używając warunków dep_delay > 0 oraz dep_delay < percentile 95%"
   ]
  },
  {
   "cell_type": "code",
   "execution_count": null,
   "metadata": {},
   "outputs": [],
   "source": [
    "import plotly.graph_objects as go\n",
    "percentile_95 = dep_delay_statistics_df.loc['95%']\n",
    "\n",
    "filtered_delays = flight_df[(flight_df['DEP_DELAY'] > 0) & (flight_df['DEP_DELAY'] < percentile_95)]\n",
    "\n",
    "fig3 = go.Figure(data=[go.Histogram(x=filtered_delays['DEP_DELAY'], \n",
    "                                   xbins=dict(start=0, end=filtered_delays['DEP_DELAY'].max(), size=10))])\n",
    "\n",
    "\n",
    "fig3.show()"
   ]
  },
  {
   "cell_type": "markdown",
   "metadata": {},
   "source": [
    "Utworzymy w ramce flight_df nową kolumnę - IS_DELAYED jako te opóźnienia, które wynosiły więcej niż (>) 15 minut.\n",
    "Chcemy wyznaczyć jaki procent wszystkich lotów był opóźniony."
   ]
  },
  {
   "cell_type": "code",
   "execution_count": null,
   "metadata": {},
   "outputs": [],
   "source": [
    "import numpy as np\n",
    "flight_df['IS_DELAYED'] = np.where(flight_df['DEP_DELAY'] > 15, 1, 0)"
   ]
  },
  {
   "cell_type": "code",
   "execution_count": null,
   "metadata": {},
   "outputs": [],
   "source": [
    "delayed_ratio = flight_df['IS_DELAYED'].mean()\n",
    "delayed_ratio = round(delayed_ratio, 2)\n",
    "delayed_ratio"
   ]
  },
  {
   "cell_type": "markdown",
   "metadata": {},
   "source": [
    "## Opóźnienia  vs Miesiąc kalendarzowy\n",
    "### Zbadamy jak zmienia się odsetek opóźnień w zależności od miesiąca kalendarzowego. "
   ]
  },
  {
   "cell_type": "code",
   "execution_count": null,
   "metadata": {},
   "outputs": [],
   "source": [
    "flight_delays_by_month_df = flight_df.groupby('MONTH')['IS_DELAYED'].mean()\n",
    "flight_delays_by_month_df"
   ]
  },
  {
   "cell_type": "code",
   "execution_count": null,
   "metadata": {},
   "outputs": [],
   "source": [
    "fig4 = px.bar(flight_delays_by_month_df, title = 'delays vs month')\n",
    "fig4.show()"
   ]
  },
  {
   "cell_type": "markdown",
   "metadata": {},
   "source": [
    "## Opóźnienia vs dzień tygodnia part 1\n",
    "Chcemy zbadać, jak zmienia się odsetek opóźnień w zależności od dnia tygodnia."
   ]
  },
  {
   "cell_type": "code",
   "execution_count": null,
   "metadata": {},
   "outputs": [],
   "source": [
    "flight_delays_by_weekday_df = flight_df.groupby('DAY_OF_WEEK')['IS_DELAYED'].mean()\n",
    "flight_delays_by_weekday_df"
   ]
  },
  {
   "cell_type": "code",
   "execution_count": null,
   "metadata": {},
   "outputs": [],
   "source": [
    "fig5 = px.bar(flight_delays_by_weekday_df, title = 'delays vs day_of_week')\n",
    "fig5.show()"
   ]
  },
  {
   "cell_type": "markdown",
   "metadata": {},
   "source": [
    "## Opóźnienia vs dzień tygodnia part 2\n",
    "Dokonamy agregacji kolumny DAY_OF_WEEK do nowej kolumny IS_WEEKEND w flight_df. Wartości, które reprezentują weekend to 6 i 7."
   ]
  },
  {
   "cell_type": "code",
   "execution_count": null,
   "metadata": {},
   "outputs": [],
   "source": [
    "flight_df['IS_WEEKEND'] = np.where(flight_df['DAY_OF_WEEK'] <= 5, 'not weekend', 'is weekend')"
   ]
  },
  {
   "cell_type": "code",
   "execution_count": null,
   "metadata": {},
   "outputs": [],
   "source": [
    "flight_delays_by_weekend_df = round(flight_df.loc[flight_df['IS_DELAYED'] == 1].groupby(by = 'IS_WEEKEND')['IS_DELAYED'].count()/flight_df.groupby(by = 'IS_WEEKEND')['IS_DELAYED'].count(), 2)\n",
    "flight_delays_by_weekend_df"
   ]
  },
  {
   "cell_type": "code",
   "execution_count": null,
   "metadata": {},
   "outputs": [],
   "source": [
    "fig6 = px.bar(flight_delays_by_weekend_df, title = 'delays/weekend or not weekend')\n",
    "fig6.show()"
   ]
  },
  {
   "cell_type": "markdown",
   "metadata": {},
   "source": [
    "## Opoźnienia vs odległość lotu \n",
    "### 1. W tej części chcemy wyznaczyć statystyki opisowe dla kolumny 'distance' wzbogacone o percentyle. "
   ]
  },
  {
   "cell_type": "code",
   "execution_count": null,
   "metadata": {},
   "outputs": [],
   "source": [
    "flight_distance_analysis_df = round(flight_df['DISTANCE'].describe(percentiles = [0.1, 0.25, 0.5, 0.75, 0.9, 0.95, 0.99]), 2)\n",
    "flight_distance_analysis_df\n"
   ]
  },
  {
   "cell_type": "code",
   "execution_count": null,
   "metadata": {},
   "outputs": [],
   "source": [
    "df10k = flight_df[['DISTANCE', 'DEP_DELAY']].sample(n = 10000)\n",
    "fig = px.scatter(df10k, x = 'DEP_DELAY', y = 'DISTANCE')\n",
    "fig.show()"
   ]
  },
  {
   "cell_type": "code",
   "execution_count": null,
   "metadata": {},
   "outputs": [],
   "source": [
    "flight_df.drop(flight_df.loc[flight_df['DISTANCE'] > flight_distance_analysis_df[9]].index, axis = 0, inplace = True)"
   ]
  },
  {
   "cell_type": "code",
   "execution_count": null,
   "metadata": {},
   "outputs": [],
   "source": [
    "flight_df['DISTANCE_AGG'] = pd.cut(flight_df['DISTANCE'], bins = [*range(0, int(flight_df['DISTANCE'].max()), 100)])\n"
   ]
  },
  {
   "cell_type": "code",
   "execution_count": null,
   "metadata": {},
   "outputs": [],
   "source": [
    "flight_delays_by_distance_agg_df = flight_df.loc[flight_df['IS_DELAYED'] == 1].groupby(by = 'DISTANCE_AGG')['IS_DELAYED'].count()/flight_df.groupby(by = 'DISTANCE_AGG')['IS_DELAYED'].count()"
   ]
  },
  {
   "cell_type": "code",
   "execution_count": null,
   "metadata": {},
   "outputs": [],
   "source": [
    "flight_delays_by_distance_agg_df = pd.DataFrame(flight_delays_by_distance_agg_df).sort_values(by = 'DISTANCE_AGG')\n",
    "flight_delays_by_distance_agg_df = flight_delays_by_distance_agg_df.fillna(0)\n",
    "flight_delays_by_distance_agg_df['INDEX_COLUMN'] = flight_delays_by_distance_agg_df.index"
   ]
  },
  {
   "cell_type": "code",
   "execution_count": null,
   "metadata": {},
   "outputs": [],
   "source": [
    "plt.figure(figsize=(15,10))\n",
    "plt.xticks(rotation=90)\n",
    "plt.bar(x = flight_delays_by_distance_agg_df['INDEX_COLUMN'].astype(str), height = flight_delays_by_distance_agg_df['IS_DELAYED'])\n",
    "plt.show()\n",
    "\n"
   ]
  },
  {
   "cell_type": "markdown",
   "metadata": {},
   "source": [
    "## Opóźnieni vs grupa odległości "
   ]
  },
  {
   "cell_type": "code",
   "execution_count": null,
   "metadata": {},
   "outputs": [],
   "source": [
    "distance_gr = flight_df['DISTANCE_GROUP'].unique()\n",
    "print(distance_gr)"
   ]
  },
  {
   "cell_type": "code",
   "execution_count": null,
   "metadata": {},
   "outputs": [],
   "source": [
    "min_dg = []  \n",
    "max_dg = []\n",
    "for p in distance_gr:\n",
    "    min_dg_temp = flight_df['DISTANCE'].loc[flight_df['DISTANCE_GROUP']==p].min()\n",
    "    max_dg_temp = flight_df['DISTANCE'].loc[flight_df['DISTANCE_GROUP']==p].max()\n",
    "    min_dg.append(min_dg_temp)\n",
    "    max_dg.append(max_dg_temp)"
   ]
  },
  {
   "cell_type": "code",
   "execution_count": null,
   "metadata": {},
   "outputs": [],
   "source": [
    "distance_gr_dict ={\n",
    "    'group': distance_gr,\n",
    "    'min': min_dg,\n",
    "    'max': max_dg\n",
    "}"
   ]
  },
  {
   "cell_type": "code",
   "execution_count": null,
   "metadata": {},
   "outputs": [],
   "source": [
    "flight_distance_by_distance_group_df = pd.DataFrame.from_dict(distance_gr_dict)\n",
    "flight_distance_by_distance_group_df = flight_distance_by_distance_group_df.sort_values('group')\n",
    "flight_distance_by_distance_group_df = flight_distance_by_distance_group_df.reset_index()\n",
    "flight_distance_by_distance_group_df.drop('index', axis = 1, inplace = True)\n",
    "flight_distance_by_distance_group_df"
   ]
  },
  {
   "cell_type": "markdown",
   "metadata": {},
   "source": []
  },
  {
   "cell_type": "code",
   "execution_count": null,
   "metadata": {},
   "outputs": [],
   "source": [
    "flight_delays_by_distance_group_df = flight_df.loc[flight_df['IS_DELAYED'] == 1].groupby(by = 'DISTANCE_GROUP')['IS_DELAYED'].count()/flight_df.groupby(by = 'DISTANCE_GROUP')['IS_DELAYED'].count()\n",
    "flight_delays_by_distance_group_df"
   ]
  },
  {
   "cell_type": "code",
   "execution_count": null,
   "metadata": {},
   "outputs": [],
   "source": [
    "fig = px.bar(flight_delays_by_distance_group_df)\n",
    "fig.show()"
   ]
  },
  {
   "cell_type": "markdown",
   "metadata": {},
   "source": [
    "### Czy większy dystans oznacza większe prawdopodobieństwo opóźnienia lotu? \n",
    "Czy możemy porównać wykresy?"
   ]
  },
  {
   "cell_type": "markdown",
   "metadata": {},
   "source": [
    "Różnica wartości zaimplementowanych koszyków nie pozwala na jednoznaczne porównanie poszczególnych wykresów. Możliwe opóźnienie nie jest efektem długości lotu. "
   ]
  },
  {
   "cell_type": "markdown",
   "metadata": {},
   "source": [
    "sprawdzic np srednia w danym + wykorzystac metodyke"
   ]
  }
 ],
 "metadata": {
  "kernelspec": {
   "display_name": "base",
   "language": "python",
   "name": "python3"
  },
  "language_info": {
   "codemirror_mode": {
    "name": "ipython",
    "version": 3
   },
   "file_extension": ".py",
   "mimetype": "text/x-python",
   "name": "python",
   "nbconvert_exporter": "python",
   "pygments_lexer": "ipython3",
   "version": "2022.10.undefined"
  }
 },
 "nbformat": 4,
 "nbformat_minor": 2
}
