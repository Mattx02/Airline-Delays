{
 "cells": [
  {
   "cell_type": "markdown",
   "metadata": {},
   "source": []
  },
  {
   "cell_type": "code",
   "execution_count": null,
   "metadata": {},
   "outputs": [],
   "source": [
    "import pandas as pd"
   ]
  },
  {
   "cell_type": "code",
   "execution_count": null,
   "metadata": {},
   "outputs": [],
   "source": [
    "flight_df = pd.read_csv(r\"C:\\Users\\macie\\OneDrive\\Pulpit\\Studia PJATK\\flight_df_01.csv\", delimiter=';')"
   ]
  },
  {
   "cell_type": "code",
   "execution_count": null,
   "metadata": {},
   "outputs": [],
   "source": [
    "aircraft_df = pd.read_csv(r\"C:\\Users\\macie\\OneDrive\\Pulpit\\Studia PJATK\\aircraft.csv\")"
   ]
  },
  {
   "cell_type": "code",
   "execution_count": null,
   "metadata": {},
   "outputs": [],
   "source": [
    "aircraft_df"
   ]
  },
  {
   "cell_type": "code",
   "execution_count": null,
   "metadata": {},
   "outputs": [],
   "source": [
    "aircraft_df.drop(aircraft_df[['Unnamed: 0','NUMBER_OF_SEATS']], axis = 1, inplace = True)\n",
    "aircraft_df.drop_duplicates(inplace = True)"
   ]
  },
  {
   "cell_type": "code",
   "execution_count": null,
   "metadata": {},
   "outputs": [],
   "source": [
    "aircraft_df"
   ]
  },
  {
   "cell_type": "markdown",
   "metadata": {},
   "source": [
    "## Modyfikacja aircraft_df "
   ]
  },
  {
   "cell_type": "code",
   "execution_count": null,
   "metadata": {},
   "outputs": [],
   "source": [
    "aircraft_df.sort_values(['TAIL_NUM', 'MANUFACTURE_YEAR'], ascending = [True, False], inplace = True )"
   ]
  },
  {
   "cell_type": "markdown",
   "metadata": {},
   "source": [
    "## Połączenie aircraft_df oraz flight_df "
   ]
  },
  {
   "cell_type": "code",
   "execution_count": null,
   "metadata": {},
   "outputs": [],
   "source": [
    "print(flight_df.columns)\n",
    "print(aircraft_df.columns)\n"
   ]
  },
  {
   "cell_type": "code",
   "execution_count": null,
   "metadata": {},
   "outputs": [],
   "source": [
    "tmp_flight_df = flight_df.merge(aircraft_df, how = 'inner', left_on = 'TAIL_NUM', right_on = 'TAIL_NUM')"
   ]
  },
  {
   "cell_type": "code",
   "execution_count": null,
   "metadata": {},
   "outputs": [],
   "source": [
    "tmp_flight_df.duplicated().unique()"
   ]
  },
  {
   "cell_type": "code",
   "execution_count": null,
   "metadata": {},
   "outputs": [],
   "source": [
    "flight_df = tmp_flight_df"
   ]
  },
  {
   "cell_type": "markdown",
   "metadata": {},
   "source": [
    "## Opóźnienia vs rok produkcji samolotu part 1 \n",
    "Wyznaczymy zależności roku produkcji do częstotliwości opóźnień "
   ]
  },
  {
   "cell_type": "code",
   "execution_count": null,
   "metadata": {},
   "outputs": [],
   "source": [
    "import plotly.express as px\n",
    "import matplotlib.pyplot as plt\n",
    "import numpy as np"
   ]
  },
  {
   "cell_type": "code",
   "execution_count": null,
   "metadata": {},
   "outputs": [],
   "source": [
    "delays_by_manufacture_year_df = flight_df.loc[flight_df['IS_DELAYED'] == 1].groupby(by = 'MANUFACTURE_YEAR')['IS_DELAYED'].count()/flight_df.groupby(by = 'MANUFACTURE_YEAR')['IS_DELAYED'].count()"
   ]
  },
  {
   "cell_type": "code",
   "execution_count": null,
   "metadata": {},
   "outputs": [],
   "source": [
    "delays_by_manufacture_year_df"
   ]
  },
  {
   "cell_type": "markdown",
   "metadata": {},
   "source": [
    "Modyfikacja przyszłego wykresu aby prezentował tylko te roczniki, które odbyły więcejk niż 10000 lotów"
   ]
  },
  {
   "cell_type": "code",
   "execution_count": null,
   "metadata": {},
   "outputs": [],
   "source": [
    "over_10k_df = flight_df.groupby(by = 'MANUFACTURE_YEAR')['IS_DELAYED'].count()\n",
    "over_10k_df = pd.DataFrame(over_10k_df)\n",
    "over_10k_df = over_10k_df.loc[over_10k_df['IS_DELAYED'] > 10000]"
   ]
  },
  {
   "cell_type": "code",
   "execution_count": null,
   "metadata": {},
   "outputs": [],
   "source": [
    "over_10k_df = over_10k_df.merge(delays_by_manufacture_year_df,\n",
    "                               how = 'left',\n",
    "                               left_on = 'MANUFACTURE_YEAR',\n",
    "                               right_on = 'MANUFACTURE_YEAR')"
   ]
  },
  {
   "cell_type": "code",
   "execution_count": null,
   "metadata": {},
   "outputs": [],
   "source": [
    "fig = px.bar(over_10k_df, y = 'IS_DELAYED_y', title = 'proportion_delays/over 10k')\n",
    "fig.show()"
   ]
  },
  {
   "cell_type": "markdown",
   "metadata": {},
   "source": [
    "## Opóźnienia vs rok produkcji samolotu part 2"
   ]
  },
  {
   "cell_type": "code",
   "execution_count": null,
   "metadata": {},
   "outputs": [],
   "source": [
    "flight_df['manufacture_year_agg'] = pd.cut(flight_df['MANUFACTURE_YEAR'], bins = [*range(int(flight_df['MANUFACTURE_YEAR'].min()), int(flight_df['MANUFACTURE_YEAR'].max()), 3)])"
   ]
  },
  {
   "cell_type": "code",
   "execution_count": null,
   "metadata": {},
   "outputs": [],
   "source": [
    "flight_delays_by_manufacture_year_agg_df = flight_df.loc[flight_df['IS_DELAYED'] == 1].groupby(by = 'manufacture_year_agg')['IS_DELAYED'].count()\n",
    "flight_delays_by_manufacture_year_agg_df = pd.DataFrame(flight_delays_by_manufacture_year_agg_df).sort_values(by = 'manufacture_year_agg')\n",
    "flight_delays_by_manufacture_year_agg_df['m_y'] = flight_delays_by_manufacture_year_agg_df.index"
   ]
  },
  {
   "cell_type": "code",
   "execution_count": null,
   "metadata": {},
   "outputs": [],
   "source": [
    "flight_delays_by_manufacture_year_agg_df['m_y'] = flight_delays_by_manufacture_year_agg_df['m_y'].astype(str)"
   ]
  },
  {
   "cell_type": "code",
   "execution_count": null,
   "metadata": {},
   "outputs": [],
   "source": [
    "plt.figure(figsize=(15,10))\n",
    "plt.xticks(rotation=90)\n",
    "plt.bar(x = flight_delays_by_manufacture_year_agg_df['m_y'], height = flight_delays_by_manufacture_year_agg_df['IS_DELAYED'])"
   ]
  },
  {
   "cell_type": "markdown",
   "metadata": {},
   "source": [
    "#### Wyznaczamy top 5 roczników produkcji - sortując według liczby wykonanych lotów, pamiętając o wyświetleniu również wartości opóźnienia"
   ]
  },
  {
   "cell_type": "code",
   "execution_count": null,
   "metadata": {},
   "outputs": [],
   "source": [
    "delays_by_manufacture_year_df"
   ]
  },
  {
   "cell_type": "code",
   "execution_count": null,
   "metadata": {},
   "outputs": [],
   "source": [
    "top_manufactured_df = over_10k_df.sort_values(by = 'IS_DELAYED_x', ascending = False).head(5)"
   ]
  },
  {
   "cell_type": "code",
   "execution_count": null,
   "metadata": {},
   "outputs": [],
   "source": [
    "top_manufactured_df"
   ]
  },
  {
   "cell_type": "code",
   "execution_count": null,
   "metadata": {},
   "outputs": [],
   "source": [
    "top_manufactured_df.rename(columns = {'IS_DELAYED_x': 'numberf of flights', 'IS_DELAYED_y': 'percentage of delays'},inplace = True)"
   ]
  },
  {
   "cell_type": "code",
   "execution_count": null,
   "metadata": {},
   "outputs": [],
   "source": [
    "top_manufactured_df"
   ]
  },
  {
   "cell_type": "code",
   "execution_count": null,
   "metadata": {},
   "outputs": [],
   "source": [
    "flight_df_02 = flight_df\n",
    "flight_df_02.to_csv(\"flight_df_02.csv\", sep = ';', encoding = 'utf-8', index = False)"
   ]
  }
 ],
 "metadata": {
  "kernelspec": {
   "display_name": "base",
   "language": "python",
   "name": "python3"
  },
  "language_info": {
   "codemirror_mode": {
    "name": "ipython",
    "version": 3
   },
   "file_extension": ".py",
   "mimetype": "text/x-python",
   "name": "python",
   "nbconvert_exporter": "python",
   "pygments_lexer": "ipython3",
   "version": "3.9.13"
  }
 },
 "nbformat": 4,
 "nbformat_minor": 2
}
