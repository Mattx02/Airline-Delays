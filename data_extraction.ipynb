{
 "cells": [
  {
   "cell_type": "code",
   "execution_count": null,
   "metadata": {},
   "outputs": [],
   "source": [
    "import pandas as pd\n",
    "df1 = pd.read_csv(r\"C:\\Users\\macie\\OneDrive\\Pulpit\\Studia PJATK\\ontime\\ONTIME_REPORTING_01.csv\")\n",
    "df2 = pd.read_csv(r\"C:\\Users\\macie\\OneDrive\\Pulpit\\Studia PJATK\\ontime\\ONTIME_REPORTING_02.csv\")\n",
    "df3 = pd.read_csv(r\"C:\\Users\\macie\\OneDrive\\Pulpit\\Studia PJATK\\ontime\\ONTIME_REPORTING_03.csv\")\n",
    "df4 = pd.read_csv(r\"C:\\Users\\macie\\OneDrive\\Pulpit\\Studia PJATK\\ontime\\ONTIME_REPORTING_04.csv\")\n",
    "df5 = pd.read_csv(r\"C:\\Users\\macie\\OneDrive\\Pulpit\\Studia PJATK\\ontime\\ONTIME_REPORTING_05.csv\")\n",
    "df6 = pd.read_csv(r\"C:\\Users\\macie\\OneDrive\\Pulpit\\Studia PJATK\\ontime\\ONTIME_REPORTING_06.csv\")\n",
    "df7 = pd.read_csv(r\"C:\\Users\\macie\\OneDrive\\Pulpit\\Studia PJATK\\ontime\\ONTIME_REPORTING_07.csv\")\n",
    "df8 = pd.read_csv(r\"C:\\Users\\macie\\OneDrive\\Pulpit\\Studia PJATK\\ontime\\ONTIME_REPORTING_08.csv\")\n",
    "df9 = pd.read_csv(r\"C:\\Users\\macie\\OneDrive\\Pulpit\\Studia PJATK\\ontime\\ONTIME_REPORTING_09.csv\")\n",
    "df10 = pd.read_csv(r\"C:\\Users\\macie\\OneDrive\\Pulpit\\Studia PJATK\\ontime\\ONTIME_REPORTING_10.csv\")\n",
    "df11 = pd.read_csv(r\"C:\\Users\\macie\\OneDrive\\Pulpit\\Studia PJATK\\ontime\\ONTIME_REPORTING_11.csv\")\n",
    "df12 = pd.read_csv(r\"C:\\Users\\macie\\OneDrive\\Pulpit\\Studia PJATK\\ontime\\ONTIME_REPORTING_12.csv\")\n",
    "df13 = pd.read_csv(r\"C:\\Users\\macie\\OneDrive\\Pulpit\\Studia PJATK\\ontime\\ONTIME_REPORTING_2020_01.csv\", \n",
    "                   low_memory=False)\n",
    "df14 = pd.read_csv(r\"C:\\Users\\macie\\OneDrive\\Pulpit\\Studia PJATK\\ontime\\ONTIME_REPORTING_2020_02.csv\", \n",
    "                   low_memory=False)\n",
    "df15 = pd.read_csv(r\"C:\\Users\\macie\\OneDrive\\Pulpit\\Studia PJATK\\ontime\\ONTIME_REPORTING_2020_03.csv\")"
   ]
  },
  {
   "cell_type": "code",
   "execution_count": null,
   "metadata": {},
   "outputs": [],
   "source": [
    "df_combined = pd.concat([df1, df2, df3, df4,df5,df6,df7,df8,df9,df10,df11,df12,df13,df14,df15], ignore_index=True)"
   ]
  },
  {
   "cell_type": "code",
   "execution_count": null,
   "metadata": {},
   "outputs": [],
   "source": [
    "df_combined.to_csv('combined_file.csv', index=False)\n"
   ]
  },
  {
   "cell_type": "code",
   "execution_count": null,
   "metadata": {},
   "outputs": [],
   "source": [
    "df_combined['Unnamed: 32'] == 'NaN'"
   ]
  },
  {
   "cell_type": "code",
   "execution_count": null,
   "metadata": {},
   "outputs": [],
   "source": [
    "df_combined.to_csv('C:/Users/macie/OneDrive/Pulpit/Studia PJATK/combined_file.csv', index=False)\n"
   ]
  },
  {
   "cell_type": "code",
   "execution_count": null,
   "metadata": {},
   "outputs": [],
   "source": []
  }
 ],
 "metadata": {
  "kernelspec": {
   "display_name": "base",
   "language": "python",
   "name": "python3"
  },
  "language_info": {
   "codemirror_mode": {
    "name": "ipython",
    "version": 3
   },
   "file_extension": ".py",
   "mimetype": "text/x-python",
   "name": "python",
   "nbconvert_exporter": "python",
   "pygments_lexer": "ipython3",
   "version": "2022.10.undefined"
  }
 },
 "nbformat": 4,
 "nbformat_minor": 2
}
